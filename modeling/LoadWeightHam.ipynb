{
 "cells": [
  {
   "cell_type": "code",
   "execution_count": 1,
   "metadata": {},
   "outputs": [],
   "source": [
    "import numpy as np\n",
    "import torch\n",
    "import torch.nn as nn\n",
    "import torch.nn.functional as F\n",
    "import torch.optim as optim\n",
    "from torch.utils.data import Dataset, DataLoader\n",
    "import os\n",
    "# from torchvision import datasets, transforms"
   ]
  },
  {
   "cell_type": "code",
   "execution_count": 2,
   "metadata": {
    "scrolled": false
   },
   "outputs": [],
   "source": [
    "batch_size = 1\n",
    "\n",
    "# Hamburger Dataset\n",
    "    \n",
    "class EvalDataset(Dataset):\n",
    "    \"\"\" Diabetes dataset.\"\"\"\n",
    "\n",
    "    # Initialize your data, download, etc.\n",
    "    def __init__(self):\n",
    "        hamdata = np.loadtxt('http://lcs1094.iptime.org/hamburger/result.csv', delimiter=',', dtype=np.float32)\n",
    "        self.len = hamdata.shape[0]\n",
    "        self.info_data = torch.from_numpy(hamdata[:, 0:10])\n",
    "        self.target_data = torch.from_numpy(hamdata[:, 10:])\n",
    "\n",
    "    def __getitem__(self, index):\n",
    "        return self.info_data[index], self.target_data[index]\n",
    "\n",
    "    def __len__(self):\n",
    "        return self.len\n",
    "\n",
    "os.remove('./lcs1094.iptime.org\\hamburger/result.csv')\n",
    "eval_dataset = EvalDataset()\n",
    "\n",
    "\n",
    "eval_loader =  torch.utils.data.DataLoader(dataset=eval_dataset,\n",
    "                                           batch_size=batch_size,\n",
    "                                           shuffle=True)"
   ]
  },
  {
   "cell_type": "code",
   "execution_count": 3,
   "metadata": {},
   "outputs": [],
   "source": [
    "class NNModel(torch.nn.Module):\n",
    "    def __init__(self):\n",
    "        super(NNModel,self).__init__()\n",
    "        self.l1 = nn.Linear(10, 32)\n",
    "        self.l2 = nn.Linear(32, 64)\n",
    "        self.l3 = nn.Linear(64, 64)\n",
    "        self.l4 = nn.Linear(64, 32)\n",
    "        self.l5 = nn.Linear(32, 93)\n",
    "        \n",
    "    def forward(self,x):\n",
    "        # input data : ( n , 1 , 28 , 28 )\n",
    "        x = x.view(-1, 10) # Flatten : ( n , 784 )\n",
    "        x = F.relu(self.l1(x))\n",
    "        x = F.relu(self.l2(x))\n",
    "        x = F.relu(self.l3(x))\n",
    "        x = F.relu(self.l4(x))\n",
    "        return self.l5(x)"
   ]
  },
  {
   "cell_type": "code",
   "execution_count": 4,
   "metadata": {},
   "outputs": [],
   "source": [
    "model = NNModel()\n",
    "\n",
    "\n",
    "criterion = nn.L1Loss()\n",
    "# criterion = nn.CrossEntropyLoss()\n",
    "optimizer = optim.SGD(model.parameters(),lr = 0.01, momentum = 0.5)"
   ]
  },
  {
   "cell_type": "code",
   "execution_count": 5,
   "metadata": {},
   "outputs": [],
   "source": [
    "def out():\n",
    "        model.eval()\n",
    "        for data, target in eval_loader:\n",
    "            output = model(data)\n",
    "            MAXX = output.max()\n",
    "            ind = 0;\n",
    "            for i in range(0, 93):\n",
    "                if (MAXX == output[0][i]):\n",
    "                    ind = i\n",
    "                    \n",
    "                    \n",
    "        code = ['00001', '00002', '00003', '00004', '00005', '00006', '00007', '00008',\n",
    "               '00009', '00010', '00011', '00012', '00013', '00014', '00015', '01001',\n",
    "               '01002', '01003', '01004', '01005', '01006', '01007', '01008', '01009',\n",
    "               '01010', '01011', '01012', '01013', '01014', '01015', '01016', '01017',\n",
    "               '01018', '01019', '01020', '01021', '02001', '02002', '02003', '02004',\n",
    "               '02005', '02006', '02007', '02008', '02009', '02010', '02011', '02012', \n",
    "               '02013', '02014', '02015', '02016', '02017', '02018', '02019', '02020',\n",
    "               '02021', '02022', '02023', '02024', '02025', '02026', '02027', '02028', \n",
    "               '02029', '02030', '02031', '02032', '02033', '02034', '02035', '02036', \n",
    "               '02037', '02038', '03001', '03002', '03003', '03004', '03005', '03006',\n",
    "               '03007', '03008', '03009', '03010', '03011', '03012', '03013', '03014', \n",
    "               '03015', '03016', '03017', '03018', '03019']\n",
    "        \n",
    "        print(code[ind])"
   ]
  },
  {
   "cell_type": "code",
   "execution_count": 6,
   "metadata": {},
   "outputs": [
    {
     "name": "stdout",
     "output_type": "stream",
     "text": [
      "01008\n"
     ]
    }
   ],
   "source": [
    "savePath = \"./output/test_model.pth\"\n",
    "model.load_state_dict(torch.load(savePath))\n",
    "out()"
   ]
  },
  {
   "cell_type": "code",
   "execution_count": null,
   "metadata": {},
   "outputs": [],
   "source": []
  }
 ],
 "metadata": {
  "kernelspec": {
   "display_name": "Python 3",
   "language": "python",
   "name": "python3"
  },
  "language_info": {
   "codemirror_mode": {
    "name": "ipython",
    "version": 3
   },
   "file_extension": ".py",
   "mimetype": "text/x-python",
   "name": "python",
   "nbconvert_exporter": "python",
   "pygments_lexer": "ipython3",
   "version": "3.7.3"
  }
 },
 "nbformat": 4,
 "nbformat_minor": 2
}
